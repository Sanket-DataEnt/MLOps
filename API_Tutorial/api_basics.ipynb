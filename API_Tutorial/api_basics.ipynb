{
 "cells": [
  {
   "cell_type": "markdown",
   "metadata": {},
   "source": [
    "# Basic Understanding of API"
   ]
  },
  {
   "cell_type": "code",
   "execution_count": 2,
   "metadata": {},
   "outputs": [],
   "source": [
    "# Importing library\n",
    "\n",
    "'''\n",
    "package : requests\n",
    "description : most common library for making requests and working with APIs\n",
    "'''\n",
    "\n",
    "import requests\n",
    "import json\n",
    "import pandas as pd"
   ]
  },
  {
   "cell_type": "code",
   "execution_count": null,
   "metadata": {},
   "outputs": [],
   "source": [
    "# Basic API Request \n",
    "\n",
    "'''\n",
    "Types of requests :-\n",
    "1. GET : is used to request data from a specified resource, never use with sensitive data and never use to modify the data.\n",
    "2. POST : is used to send data to a server to create/update a resource, do not remain in the browser history, no restrictions on data length. \n",
    "'''\n",
    "\n",
    "response = requests.get(\"https://api.open-notify.org/this-api-doesnt-exist\") \n",
    "# The get() function returns a response object. "
   ]
  },
  {
   "cell_type": "code",
   "execution_count": null,
   "metadata": {},
   "outputs": [],
   "source": [
    "# Can use response.status_code attribute to receive the status code for our request:\n",
    "print(response.status_code)"
   ]
  },
  {
   "cell_type": "markdown",
   "metadata": {},
   "source": [
    "### API Status Codes\n",
    "\n",
    "200: Everything went okay, and the result has been returned (if any).\n",
    "\n",
    "301: The server is redirecting you to a different endpoint. This can happen when a company switches domain names, or an endpoint name is changed.\n",
    "\n",
    "400: The server thinks you made a bad request. This can happen when you don’t send along the right data, among other things.\n",
    "\n",
    "401: The server thinks you’re not authenticated. Many APIs require login ccredentials, so this happens when you don’t send the right credentials to access an API.\n",
    "\n",
    "403: The resource you’re trying to access is forbidden: you don’t have the right permissions to see it.\n",
    "\n",
    "404: The resource you tried to access wasn’t found on the server.\n",
    "\n",
    "503: The server is not ready to handle the request.\n",
    "\n",
    "#### Note :- \n",
    "            1. 2 series = Response related to success.\n",
    "            2. 4/5 series = Response related to error. "
   ]
  },
  {
   "cell_type": "markdown",
   "metadata": {},
   "source": [
    "### Understanding API"
   ]
  },
  {
   "cell_type": "code",
   "execution_count": 3,
   "metadata": {},
   "outputs": [
    {
     "output_type": "stream",
     "name": "stdout",
     "text": [
      "200\n"
     ]
    }
   ],
   "source": [
    "'''\n",
    "- Always go through the API documentation.\n",
    "- Two types :-\n",
    "    - With Authentication \n",
    "    - Without Authentication.\n",
    "- Here we atre using Open Notify API = gives access to data about the international space station.\n",
    "- Each API is called endpoints\n",
    "'''\n",
    "\n",
    "response = requests.get(\"http://api.open-notify.org/iss-now.json\")\n",
    "print(response.status_code)"
   ]
  },
  {
   "cell_type": "code",
   "execution_count": 4,
   "metadata": {},
   "outputs": [
    {
     "output_type": "stream",
     "name": "stdout",
     "text": [
      "{'message': 'success', 'iss_position': {'latitude': '-34.7172', 'longitude': '-167.4119'}, 'timestamp': 1622806351}\n"
     ]
    }
   ],
   "source": [
    "# Checking metadata of response\n",
    "print(response.json())"
   ]
  },
  {
   "cell_type": "markdown",
   "metadata": {},
   "source": [
    "### Exploring JSON data in python"
   ]
  },
  {
   "cell_type": "code",
   "execution_count": 5,
   "metadata": {},
   "outputs": [
    {
     "output_type": "stream",
     "name": "stdout",
     "text": [
      "{\n    \"iss_position\": {\n        \"latitude\": \"-34.7172\",\n        \"longitude\": \"-167.4119\"\n    },\n    \"message\": \"success\",\n    \"timestamp\": 1622806351\n}\n"
     ]
    }
   ],
   "source": [
    "'''\n",
    "JSON is the primary format in which data is passed back and forth to APIs, and most API servers will send their responses in JSON format.\n",
    "Python has great JSON support with the json package. \n",
    "Main functions of JSON package : -\n",
    "    1. json.dumps() — Takes in a Python object, and converts (dumps) it to a string.\n",
    "    2. json.loads() — Takes a JSON string, and converts (loads) it to a Python object.\n",
    "'''\n",
    "\n",
    "dictionary = json.dumps(response.json(), sort_keys = True, indent = 4)\n",
    "print(dictionary)"
   ]
  },
  {
   "cell_type": "code",
   "execution_count": 6,
   "metadata": {},
   "outputs": [
    {
     "output_type": "stream",
     "name": "stdout",
     "text": [
      "Longitude:  -167.4119\nLatitude:  -34.7172\n"
     ]
    }
   ],
   "source": [
    "# Playing with JSON data \n",
    "\n",
    "'''\n",
    "We are interested in knowing latitude & longitude\n",
    "'''\n",
    "json_response = response.json()\n",
    "\n",
    "latitude = json_response['iss_position']['latitude']\n",
    "longitude = json_response['iss_position']['longitude']\n",
    "\n",
    "print('Longitude: ', longitude)\n",
    "print('Latitude: ', latitude)"
   ]
  },
  {
   "cell_type": "code",
   "execution_count": 7,
   "metadata": {},
   "outputs": [
    {
     "output_type": "stream",
     "name": "stdout",
     "text": [
      "{\n    \"iss_position\": {\n        \"latitude\": \"-34.7172\",\n        \"longitude\": \"-167.4119\"\n    },\n    \"message\": \"success\",\n    \"timestamp\": 1622806351\n}\n"
     ]
    }
   ],
   "source": [
    "'''\n",
    "Applying above tasks in function\n",
    "'''\n",
    "\n",
    "def jprint(obj):\n",
    "    text = json.dumps(obj, sort_keys=True, indent=4)\n",
    "    print(text)\n",
    "\n",
    "jprint(response.json())\n"
   ]
  },
  {
   "cell_type": "markdown",
   "metadata": {},
   "source": [
    "### Using an API with Query Parameters"
   ]
  },
  {
   "cell_type": "code",
   "execution_count": 8,
   "metadata": {},
   "outputs": [
    {
     "output_type": "stream",
     "name": "stdout",
     "text": [
      "{\n    \"iss_position\": {\n        \"latitude\": \"-34.9074\",\n        \"longitude\": \"-167.1633\"\n    },\n    \"message\": \"success\",\n    \"timestamp\": 1622806355\n}\n"
     ]
    }
   ],
   "source": [
    "\n",
    "parameters = {\n",
    "    \"latitude\": \"-36.8657\",\n",
    "    \"longitude\": \"-21.2536\"\n",
    "}\n",
    "response = requests.get(\"http://api.open-notify.org/iss-now.json\", params=parameters)\n",
    "\n",
    "jprint(response.json())"
   ]
  },
  {
   "cell_type": "markdown",
   "metadata": {},
   "source": [
    "## Real Life Usecase of API\n",
    "\n",
    "### Finding Counts of covid cases on real time basis using API (Real time application : https://mmediagroup.fr/covid-19)"
   ]
  },
  {
   "cell_type": "code",
   "execution_count": 9,
   "metadata": {},
   "outputs": [],
   "source": [
    "parameters = {\"country\" : \"India\"}\n",
    "response = requests.get(\"https://covid-api.mmediagroup.fr/v1/cases\", params=parameters)"
   ]
  },
  {
   "cell_type": "code",
   "execution_count": 10,
   "metadata": {},
   "outputs": [
    {
     "output_type": "stream",
     "name": "stdout",
     "text": [
      "{\n    \"All\": {\n        \"abbreviation\": \"IN\",\n        \"capital_city\": \"New Delhi\",\n        \"confirmed\": 28574350,\n        \"continent\": \"Asia\",\n        \"country\": \"India\",\n        \"deaths\": 340702,\n        \"elevation_in_meters\": 160,\n        \"iso\": 356,\n        \"life_expectancy\": \"62.5\",\n        \"location\": \"Southern and Central Asia\",\n        \"population\": 1339180127,\n        \"recovered\": 26597655,\n        \"sq_km_area\": 3287263\n    },\n    \"Andaman and Nicobar Islands\": {\n        \"confirmed\": 7070,\n        \"deaths\": 119,\n        \"lat\": \"11.225999\",\n        \"long\": \"92.968178\",\n        \"recovered\": 6820,\n        \"updated\": \"2021/06/04 10:24:18+00\"\n    },\n    \"Andhra Pradesh\": {\n        \"confirmed\": 1728577,\n        \"deaths\": 11213,\n        \"lat\": \"15.9129\",\n        \"long\": \"79.74\",\n        \"recovered\": 1578452,\n        \"updated\": \"2021/06/04 10:24:18+00\"\n    },\n    \"Arunachal Pradesh\": {\n        \"confirmed\": 28382,\n        \"deaths\": 119,\n        \"lat\": \"27.768456\",\n        \"long\": \"96.384277\",\n        \"recovered\": 24420,\n        \"updated\": \"2021/06/04 10:24:18+00\"\n    },\n    \"Assam\": {\n        \"confirmed\": 424385,\n        \"deaths\": 3523,\n        \"lat\": \"26.357149\",\n        \"long\": \"92.830441\",\n        \"recovered\": 368981,\n        \"updated\": \"2021/06/04 10:24:18+00\"\n    },\n    \"Bihar\": {\n        \"confirmed\": 710199,\n        \"deaths\": 5296,\n        \"lat\": \"25.679658\",\n        \"long\": \"85.60484\",\n        \"recovered\": 693472,\n        \"updated\": \"2021/06/04 10:24:18+00\"\n    },\n    \"Chandigarh\": {\n        \"confirmed\": 60399,\n        \"deaths\": 762,\n        \"lat\": \"30.733839\",\n        \"long\": \"76.768278\",\n        \"recovered\": 58502,\n        \"updated\": \"2021/06/04 10:24:18+00\"\n    },\n    \"Chhattisgarh\": {\n        \"confirmed\": 976760,\n        \"deaths\": 13139,\n        \"lat\": \"21.264705\",\n        \"long\": \"82.035366\",\n        \"recovered\": 934243,\n        \"updated\": \"2021/06/04 10:24:18+00\"\n    },\n    \"Dadra and Nagar Haveli and Daman and Diu\": {\n        \"confirmed\": 10345,\n        \"deaths\": 4,\n        \"lat\": \"20.194742\",\n        \"long\": \"73.080901\",\n        \"recovered\": 10091,\n        \"updated\": \"2021/06/04 10:24:18+00\"\n    },\n    \"Delhi\": {\n        \"confirmed\": 1427926,\n        \"deaths\": 24447,\n        \"lat\": \"28.646519\",\n        \"long\": \"77.10898\",\n        \"recovered\": 1394731,\n        \"updated\": \"2021/06/04 10:24:18+00\"\n    },\n    \"Goa\": {\n        \"confirmed\": 157847,\n        \"deaths\": 2710,\n        \"lat\": \"15.359682\",\n        \"long\": \"74.057396\",\n        \"recovered\": 145437,\n        \"updated\": \"2021/06/04 10:24:18+00\"\n    },\n    \"Gujarat\": {\n        \"confirmed\": 813270,\n        \"deaths\": 9890,\n        \"lat\": \"22.694884\",\n        \"long\": \"71.590923\",\n        \"recovered\": 778976,\n        \"updated\": \"2021/06/04 10:24:18+00\"\n    },\n    \"Haryana\": {\n        \"confirmed\": 760019,\n        \"deaths\": 8532,\n        \"lat\": \"29.20004\",\n        \"long\": \"76.332824\",\n        \"recovered\": 738799,\n        \"updated\": \"2021/06/04 10:24:18+00\"\n    },\n    \"Himachal Pradesh\": {\n        \"confirmed\": 193137,\n        \"deaths\": 3233,\n        \"lat\": \"31.927213\",\n        \"long\": \"77.233081\",\n        \"recovered\": 178847,\n        \"updated\": \"2021/06/04 10:24:18+00\"\n    },\n    \"Jammu and Kashmir\": {\n        \"confirmed\": 295879,\n        \"deaths\": 3992,\n        \"lat\": \"33.75943\",\n        \"long\": \"76.612638\",\n        \"recovered\": 261230,\n        \"updated\": \"2021/06/04 10:24:18+00\"\n    },\n    \"Jharkhand\": {\n        \"confirmed\": 339930,\n        \"deaths\": 5021,\n        \"lat\": \"23.654536\",\n        \"long\": \"85.557631\",\n        \"recovered\": 327372,\n        \"updated\": \"2021/06/04 10:24:18+00\"\n    },\n    \"Karnataka\": {\n        \"confirmed\": 2653446,\n        \"deaths\": 30531,\n        \"lat\": \"14.70518\",\n        \"long\": \"76.166436\",\n        \"recovered\": 2336096,\n        \"updated\": \"2021/06/04 10:24:18+00\"\n    },\n    \"Kerala\": {\n        \"confirmed\": 2584853,\n        \"deaths\": 9375,\n        \"lat\": \"10.450898\",\n        \"long\": \"76.405749\",\n        \"recovered\": 2390779,\n        \"updated\": \"2021/06/04 10:24:18+00\"\n    },\n    \"Ladakh\": {\n        \"confirmed\": 18954,\n        \"deaths\": 193,\n        \"lat\": \"34.1526\",\n        \"long\": \"77.5771\",\n        \"recovered\": 17256,\n        \"updated\": \"2021/06/04 10:24:18+00\"\n    },\n    \"Lakshadweep\": {\n        \"confirmed\": 8479,\n        \"deaths\": 35,\n        \"lat\": \"13.6999972\",\n        \"long\": \"72.1833326\",\n        \"recovered\": 7089,\n        \"updated\": \"2021/06/04 10:24:18+00\"\n    },\n    \"Madhya Pradesh\": {\n        \"confirmed\": 782945,\n        \"deaths\": 8207,\n        \"lat\": \"23.541513\",\n        \"long\": \"78.289633\",\n        \"recovered\": 760552,\n        \"updated\": \"2021/06/04 10:24:18+00\"\n    },\n    \"Maharashtra\": {\n        \"confirmed\": 5791413,\n        \"deaths\": 97394,\n        \"lat\": \"19.449759\",\n        \"long\": \"76.108221\",\n        \"recovered\": 5486206,\n        \"updated\": \"2021/06/04 10:24:18+00\"\n    },\n    \"Manipur\": {\n        \"confirmed\": 52899,\n        \"deaths\": 849,\n        \"lat\": \"24.738975\",\n        \"long\": \"93.882541\",\n        \"recovered\": 43187,\n        \"updated\": \"2021/06/04 10:24:18+00\"\n    },\n    \"Meghalaya\": {\n        \"confirmed\": 37149,\n        \"deaths\": 625,\n        \"lat\": \"25.536934\",\n        \"long\": \"91.278882\",\n        \"recovered\": 30172,\n        \"updated\": \"2021/06/04 10:24:18+00\"\n    },\n    \"Mizoram\": {\n        \"confirmed\": 13064,\n        \"deaths\": 47,\n        \"lat\": \"23.309381\",\n        \"long\": \"92.83822\",\n        \"recovered\": 9602,\n        \"updated\": \"2021/06/04 10:24:18+00\"\n    },\n    \"Nagaland\": {\n        \"confirmed\": 22240,\n        \"deaths\": 404,\n        \"lat\": \"26.06702\",\n        \"long\": \"94.470302\",\n        \"recovered\": 17125,\n        \"updated\": \"2021/06/04 10:24:18+00\"\n    },\n    \"Odisha\": {\n        \"confirmed\": 790970,\n        \"deaths\": 2873,\n        \"lat\": \"20.505428\",\n        \"long\": \"84.418059\",\n        \"recovered\": 713055,\n        \"updated\": \"2021/06/04 10:24:18+00\"\n    },\n    \"Puducherry\": {\n        \"confirmed\": 107114,\n        \"deaths\": 1583,\n        \"lat\": \"11.882658\",\n        \"long\": \"78.86498\",\n        \"recovered\": 95516,\n        \"updated\": \"2021/06/04 10:24:18+00\"\n    },\n    \"Punjab\": {\n        \"confirmed\": 574114,\n        \"deaths\": 14840,\n        \"lat\": \"30.841465\",\n        \"long\": \"75.40879\",\n        \"recovered\": 530601,\n        \"updated\": \"2021/06/04 10:24:18+00\"\n    },\n    \"Rajasthan\": {\n        \"confirmed\": 943494,\n        \"deaths\": 8559,\n        \"lat\": \"26.583423\",\n        \"long\": \"73.847973\",\n        \"recovered\": 907527,\n        \"updated\": \"2021/06/04 10:24:18+00\"\n    },\n    \"Sikkim\": {\n        \"confirmed\": 16165,\n        \"deaths\": 263,\n        \"lat\": \"27.571671\",\n        \"long\": \"88.472712\",\n        \"recovered\": 11718,\n        \"updated\": \"2021/06/04 10:24:18+00\"\n    },\n    \"Tamil Nadu\": {\n        \"confirmed\": 2172751,\n        \"deaths\": 25665,\n        \"lat\": \"11.006091\",\n        \"long\": \"78.400624\",\n        \"recovered\": 1866660,\n        \"updated\": \"2021/06/04 10:24:18+00\"\n    },\n    \"Telangana\": {\n        \"confirmed\": 585489,\n        \"deaths\": 3331,\n        \"lat\": \"18.1124\",\n        \"long\": \"79.0193\",\n        \"recovered\": 549579,\n        \"updated\": \"2021/06/04 10:24:18+00\"\n    },\n    \"Tripura\": {\n        \"confirmed\": 53872,\n        \"deaths\": 539,\n        \"lat\": \"23.746783\",\n        \"long\": \"91.743565\",\n        \"recovered\": 46993,\n        \"updated\": \"2021/06/04 10:24:18+00\"\n    },\n    \"Unknown\": {\n        \"confirmed\": 0,\n        \"deaths\": 0,\n        \"lat\": \"\",\n        \"long\": \"\",\n        \"recovered\": 0,\n        \"updated\": \"2021/06/04 10:24:18+00\"\n    },\n    \"Uttar Pradesh\": {\n        \"confirmed\": 1695212,\n        \"deaths\": 20895,\n        \"lat\": \"26.925425\",\n        \"long\": \"80.560982\",\n        \"recovered\": 1648771,\n        \"updated\": \"2021/06/04 10:24:18+00\"\n    },\n    \"Uttarakhand\": {\n        \"confirmed\": 332067,\n        \"deaths\": 6573,\n        \"lat\": \"30.156447\",\n        \"long\": \"79.197608\",\n        \"recovered\": 302964,\n        \"updated\": \"2021/06/04 10:24:18+00\"\n    },\n    \"West Bengal\": {\n        \"confirmed\": 1403535,\n        \"deaths\": 15921,\n        \"lat\": \"23.814082\",\n        \"long\": \"87.979803\",\n        \"recovered\": 1325834,\n        \"updated\": \"2021/06/04 10:24:18+00\"\n    }\n}\n"
     ]
    }
   ],
   "source": [
    "jprint(response.json())"
   ]
  },
  {
   "cell_type": "code",
   "execution_count": 11,
   "metadata": {},
   "outputs": [
    {
     "output_type": "execute_result",
     "data": {
      "text/plain": [
       "['All',\n",
       " 'Andaman and Nicobar Islands',\n",
       " 'Andhra Pradesh',\n",
       " 'Arunachal Pradesh',\n",
       " 'Assam',\n",
       " 'Bihar',\n",
       " 'Chandigarh',\n",
       " 'Chhattisgarh',\n",
       " 'Dadra and Nagar Haveli and Daman and Diu',\n",
       " 'Delhi',\n",
       " 'Goa',\n",
       " 'Gujarat',\n",
       " 'Haryana',\n",
       " 'Himachal Pradesh',\n",
       " 'Jammu and Kashmir',\n",
       " 'Jharkhand',\n",
       " 'Karnataka',\n",
       " 'Kerala',\n",
       " 'Ladakh',\n",
       " 'Lakshadweep',\n",
       " 'Madhya Pradesh',\n",
       " 'Maharashtra',\n",
       " 'Manipur',\n",
       " 'Meghalaya',\n",
       " 'Mizoram',\n",
       " 'Nagaland',\n",
       " 'Odisha',\n",
       " 'Puducherry',\n",
       " 'Punjab',\n",
       " 'Rajasthan',\n",
       " 'Sikkim',\n",
       " 'Tamil Nadu',\n",
       " 'Telangana',\n",
       " 'Tripura',\n",
       " 'Unknown',\n",
       " 'Uttar Pradesh',\n",
       " 'Uttarakhand',\n",
       " 'West Bengal']"
      ]
     },
     "metadata": {},
     "execution_count": 11
    }
   ],
   "source": [
    "# Extracting all keys (states) from the JSON\n",
    "list(response.json().keys())"
   ]
  },
  {
   "cell_type": "code",
   "execution_count": 12,
   "metadata": {},
   "outputs": [
    {
     "output_type": "stream",
     "name": "stdout",
     "text": [
      "Confirmed Covid cases in Maharashtra :  5791413\nTotal Deaths in Maharashtra :  97394\n"
     ]
    }
   ],
   "source": [
    "# Finding the confirmed and deaths in Maharashtra state\n",
    "\n",
    "json_response = response.json()\n",
    "\n",
    "confirmed_cases_mah = json_response['Maharashtra']['confirmed']\n",
    "deaths_mah = json_response['Maharashtra']['deaths']\n",
    "\n",
    "print(\"Confirmed Covid cases in Maharashtra : \", confirmed_cases_mah)\n",
    "print(\"Total Deaths in Maharashtra : \", deaths_mah)"
   ]
  },
  {
   "cell_type": "markdown",
   "metadata": {},
   "source": [
    "#### Many Public APIs are avaialble to explore: https://github.com/public-apis/public-apis"
   ]
  },
  {
   "cell_type": "markdown",
   "metadata": {},
   "source": [
    "# Intermediate Understanding of API\n",
    "\n",
    "#### Main Goal :-\n",
    "    1. How to authenticate yourself with an API key.\n",
    "    2. How to use rate limiting and other techniques to work within the guidelines of an API.\n",
    "    3. How to use pagination to work with large responses."
   ]
  },
  {
   "cell_type": "markdown",
   "metadata": {},
   "source": [
    "**In this tutorial we are working with [Last.fm](https://www.last.fm/api/intro) API. We have to follow guildelines mentioned by Last.fm**\n",
    "    \n",
    "    Guidelines :-\n",
    "        1. Please use an identifiable User-Agent header on all requests. This helps our logging and reduces the risk of you getting banned.\n",
    "        (When you make a request to the last.fm API, you can identify yourself using headers. Last.fm wants us to specify a user-agent in the header so they know who we are. We’ll learn how to do that when we make our first request in a moment.)\n",
    "        \n",
    "        2. Be reasonable in your usage of the API and ensure you don't make an excessive number of calls as that can impact the reliability of the service to you and other users.\n",
    "        (Use common sense when deciding how many calls to make. For example, if you’re making a web application, try not to hit the API on page load. Your account may be suspended if your application is continuously making several calls per second.)"
   ]
  },
  {
   "cell_type": "markdown",
   "metadata": {},
   "source": [
    "## Authentication\n",
    "\n",
    "***Authenticating with API Keys***"
   ]
  },
  {
   "cell_type": "markdown",
   "metadata": {},
   "source": [
    "**APIs require a person to authenticate themself, so that it knows that he has permission to use API. Authentication basically is like password for using that API.**\n",
    "\n",
    "Process of using an API :-\n",
    "\n",
    "    1. Create an account with the provider of the API.\n",
    "    2. Request a API, which will be a long string like 1234tyui09876er56\n",
    "    3. Keep your API safe somewhere. Don’t disclose it. \n",
    "    4. While sending a request, we provide API key to authenticate ourself."
   ]
  },
  {
   "cell_type": "markdown",
   "metadata": {},
   "source": [
    "Application name :\tAPI_Tutorial\n",
    "\n",
    "API key\t: 4e15fb011fcaca9e015b31b2bbc6d659\n",
    "\n",
    "Shared secret\t: 0b3579f3b62e7ae3b1fd42e3b8f559e1\n",
    "\n",
    "Registered to\t: Music_Insect"
   ]
  },
  {
   "cell_type": "markdown",
   "metadata": {},
   "source": [
    "1. Here we will use [chart.getTopArtists](https://www.last.fm/api/show/chart.getTopArtists)\n",
    "    - It looks like there is only one real endpoint, and each “endpoint” is actually specified by using the method parameter.\n",
    "    - The API can return results in multiple formats – we’ll specify JSON\n",
    "    - JSON: /2.0/?method=chart.gettopartists&api_key=YOUR_API_KEY&format=json\n",
    "\n",
    "2. To provide a user-agent header to identify ourselves when we make a request, we specify headers using the headers parameter."
   ]
  },
  {
   "cell_type": "code",
   "execution_count": 13,
   "metadata": {},
   "outputs": [],
   "source": [
    "API_Key = 'XXXXXXXXXXXXXXXX'\n",
    "USER_AGENT = 'Music_Insect'"
   ]
  },
  {
   "cell_type": "code",
   "execution_count": 14,
   "metadata": {},
   "outputs": [
    {
     "output_type": "execute_result",
     "data": {
      "text/plain": [
       "200"
      ]
     },
     "metadata": {},
     "execution_count": 14
    }
   ],
   "source": [
    "import requests\n",
    "\n",
    "headers = {\n",
    "    'user-agent' : 'Music_Insect'\n",
    "    }\n",
    "\n",
    "payload = {\n",
    "    'api_key' : API_Key, \n",
    "    'method' : 'chart.gettopartists', \n",
    "    'format' : 'json'\n",
    "}\n",
    "\n",
    "r = requests.get('http://ws.audioscrobbler.com/2.0/', headers=headers, params=payload)\n",
    "\n",
    "r.status_code"
   ]
  },
  {
   "cell_type": "code",
   "execution_count": 15,
   "metadata": {},
   "outputs": [],
   "source": [
    "# Encapsulating all the above in a single function \n",
    "\n",
    "def lastfm_get(payload):\n",
    "    headers = {'user-agent' : USER_AGENT}\n",
    "    url = 'http://ws.audioscrobbler.com/2.0/'\n",
    "\n",
    "    payload['api_key'] = API_Key\n",
    "    payload['format'] = 'json'\n",
    "\n",
    "    response = requests.get(url, headers=headers, params=payload)\n",
    "    return response"
   ]
  },
  {
   "cell_type": "code",
   "execution_count": 16,
   "metadata": {},
   "outputs": [
    {
     "output_type": "execute_result",
     "data": {
      "text/plain": [
       "200"
      ]
     },
     "metadata": {},
     "execution_count": 16
    }
   ],
   "source": [
    "r = lastfm_get({ 'method' : 'chart.gettopartists'})\n",
    "r.status_code"
   ]
  },
  {
   "cell_type": "code",
   "execution_count": null,
   "metadata": {},
   "outputs": [],
   "source": [
    "jprint(r.json())"
   ]
  },
  {
   "cell_type": "code",
   "execution_count": 18,
   "metadata": {},
   "outputs": [
    {
     "output_type": "stream",
     "name": "stdout",
     "text": [
      "{\n    \"page\": \"1\",\n    \"perPage\": \"50\",\n    \"total\": \"3919078\",\n    \"totalPages\": \"78382\"\n}\n"
     ]
    }
   ],
   "source": [
    "# Exploring @attr key\n",
    "\n",
    "'''\n",
    "There are approx 4 million artists in the response, however, on a single page they have displayed only 50 artists.\n",
    "This technique of spreading the results over multiple pages is called PAGINATION.\n",
    "'''\n",
    "\n",
    "jprint(r.json()['artists']['@attr'])"
   ]
  },
  {
   "cell_type": "markdown",
   "metadata": {},
   "source": [
    "## Exploring Pagination Functionality "
   ]
  },
  {
   "cell_type": "markdown",
   "metadata": {},
   "source": [
    "- When we want to prepare a dataset, we have to make a request to API multiple times, as in a single request it send limited data, then we append this data.\n",
    "- Pagination can be controlled by the following parameters :-\n",
    "\n",
    "    1. limit: The number of results to fetch per page (defaults to 50).\n",
    "    2. page: Which page of the results we want to fetch.\n",
    "\n",
    "- Use a while loop and iterate over pages until the page number is equal to the last page number.\n",
    "- Use the limit parameter to fetch more results in each page — we’ll fetch 500 results per page so we only need to make ~6,000 calls instead of ~60,000.\n",
    "\n",
    "### Rate Limiting\n",
    "\n",
    "Rate limiting can be achieved in two ways :-\n",
    "\n",
    "1. Rate limiting is using code to limit the number of times per second that we hit a particular API. Rate limiting will make your code slower, but it’s better than getting banned from using an API altogether.\n",
    "\n",
    "2. Using a local database to cache the results of any API call, so that if we make the same call twice, the second time it reads it from the local cache. \n",
    "\n",
    "\n",
    "**Benefits of using cache**\n",
    "\n",
    "1. You don’t make extra API calls that you don’t need to.\n",
    "2. You don’t need to wait the extra time to rate limit when reading the repeated calls from the cache.\n",
    "\n",
    "\n",
    "\n",
    "\n"
   ]
  },
  {
   "attachments": {
    "Screenshot%202021-06-04%20at%203.00.26%20PM.png": {
     "image/png": "[encoded data removed]"
    }
   },
   "cell_type": "markdown",
   "metadata": {},
   "source": [
    "![Screenshot%202021-06-04%20at%203.00.26%20PM.png](attachment:Screenshot%202021-06-04%20at%203.00.26%20PM.png)"
   ]
  },
  {
   "cell_type": "code",
   "execution_count": 20,
   "metadata": {},
   "outputs": [],
   "source": [
    "import requests_cache\n",
    "\n",
    "requests_cache.install_cache()"
   ]
  },
  {
   "cell_type": "code",
   "execution_count": 21,
   "metadata": {},
   "outputs": [
    {
     "output_type": "stream",
     "name": "stdout",
     "text": [
      "39.55612802505493\n"
     ]
    }
   ],
   "source": [
    "'''\n",
    "Its so boring to wautr for couple of minutes without knowing what is going on with the code. So, we will use\n",
    "the IPython display trick to clear the output after each run so things look neater in our notebook.\n",
    "'''\n",
    "\n",
    "import time\n",
    "from IPython.core.display import clear_output\n",
    "\n",
    "start_time = time.time()\n",
    "responses = []\n",
    "\n",
    "page = 1\n",
    "total_pages = 99999 # this is just a dummy number so the loop starts\n",
    "\n",
    "# while page <= total_pages:\n",
    "while page <= 5250:\n",
    "    payload = {\n",
    "        'method': 'chart.gettopartists',\n",
    "        'limit': 500,\n",
    "        'page': page\n",
    "    }\n",
    "\n",
    "    # print some output so we can see the status\n",
    "    print(\"Requesting page {}/{}\".format(page, total_pages))\n",
    "    # clear the output to make things neater\n",
    "    clear_output(wait = True)\n",
    "\n",
    "    # make the API call\n",
    "    response = lastfm_get(payload)\n",
    "\n",
    "    # if we get an error, print the response and halt the loop\n",
    "    if response.status_code != 200:\n",
    "        print(response.text)\n",
    "        break\n",
    "\n",
    "    # extract pagination info\n",
    "    page = int(response.json()['artists']['@attr']['page'])\n",
    "    total_pages = int(response.json()['artists']['@attr']['totalPages'])\n",
    "\n",
    "    # append response\n",
    "    responses.append(response)\n",
    "\n",
    "    # if it's not a cached result, sleep\n",
    "    if not getattr(response, 'from_cache', False):\n",
    "        time.sleep(0.25)\n",
    "\n",
    "    # increment the page number\n",
    "    page += 1\n",
    "\n",
    "print(time.time()-start_time)"
   ]
  },
  {
   "cell_type": "markdown",
   "metadata": {},
   "source": [
    "## Processing the Data"
   ]
  },
  {
   "cell_type": "code",
   "execution_count": 24,
   "metadata": {},
   "outputs": [
    {
     "output_type": "execute_result",
     "data": {
      "text/plain": [
       "             name  playcount listeners                                  mbid  \\\n",
       "0      The Weeknd  179346588   2006559  c8b03190-306c-4120-bb0b-6f2ebfc06ea9   \n",
       "1  Olivia Rodrigo   29852690    529936                                         \n",
       "2   Billie Eilish   98962944   1206600                                         \n",
       "3      Kanye West  364538699   4936218  164f0d73-1234-4e2c-8743-d77bf2191051   \n",
       "4        Dua Lipa   96012217   1145614                                         \n",
       "\n",
       "                                        url streamable  \\\n",
       "0      https://www.last.fm/music/The+Weeknd          0   \n",
       "1  https://www.last.fm/music/Olivia+Rodrigo          0   \n",
       "2   https://www.last.fm/music/Billie+Eilish          0   \n",
       "3      https://www.last.fm/music/Kanye+West          0   \n",
       "4        https://www.last.fm/music/Dua+Lipa          0   \n",
       "\n",
       "                                               image  \n",
       "0  [{'#text': 'https://lastfm.freetls.fastly.net/...  \n",
       "1  [{'#text': 'https://lastfm.freetls.fastly.net/...  \n",
       "2  [{'#text': 'https://lastfm.freetls.fastly.net/...  \n",
       "3  [{'#text': 'https://lastfm.freetls.fastly.net/...  \n",
       "4  [{'#text': 'https://lastfm.freetls.fastly.net/...  "
      ],
      "text/html": "<div>\n<style scoped>\n    .dataframe tbody tr th:only-of-type {\n        vertical-align: middle;\n    }\n\n    .dataframe tbody tr th {\n        vertical-align: top;\n    }\n\n    .dataframe thead th {\n        text-align: right;\n    }\n</style>\n<table border=\"1\" class=\"dataframe\">\n  <thead>\n    <tr style=\"text-align: right;\">\n      <th></th>\n      <th>name</th>\n      <th>playcount</th>\n      <th>listeners</th>\n      <th>mbid</th>\n      <th>url</th>\n      <th>streamable</th>\n      <th>image</th>\n    </tr>\n  </thead>\n  <tbody>\n    <tr>\n      <th>0</th>\n      <td>The Weeknd</td>\n      <td>179346588</td>\n      <td>2006559</td>\n      <td>c8b03190-306c-4120-bb0b-6f2ebfc06ea9</td>\n      <td>https://www.last.fm/music/The+Weeknd</td>\n      <td>0</td>\n      <td>[{'#text': 'https://lastfm.freetls.fastly.net/...</td>\n    </tr>\n    <tr>\n      <th>1</th>\n      <td>Olivia Rodrigo</td>\n      <td>29852690</td>\n      <td>529936</td>\n      <td></td>\n      <td>https://www.last.fm/music/Olivia+Rodrigo</td>\n      <td>0</td>\n      <td>[{'#text': 'https://lastfm.freetls.fastly.net/...</td>\n    </tr>\n    <tr>\n      <th>2</th>\n      <td>Billie Eilish</td>\n      <td>98962944</td>\n      <td>1206600</td>\n      <td></td>\n      <td>https://www.last.fm/music/Billie+Eilish</td>\n      <td>0</td>\n      <td>[{'#text': 'https://lastfm.freetls.fastly.net/...</td>\n    </tr>\n    <tr>\n      <th>3</th>\n      <td>Kanye West</td>\n      <td>364538699</td>\n      <td>4936218</td>\n      <td>164f0d73-1234-4e2c-8743-d77bf2191051</td>\n      <td>https://www.last.fm/music/Kanye+West</td>\n      <td>0</td>\n      <td>[{'#text': 'https://lastfm.freetls.fastly.net/...</td>\n    </tr>\n    <tr>\n      <th>4</th>\n      <td>Dua Lipa</td>\n      <td>96012217</td>\n      <td>1145614</td>\n      <td></td>\n      <td>https://www.last.fm/music/Dua+Lipa</td>\n      <td>0</td>\n      <td>[{'#text': 'https://lastfm.freetls.fastly.net/...</td>\n    </tr>\n  </tbody>\n</table>\n</div>"
     },
     "metadata": {},
     "execution_count": 24
    }
   ],
   "source": [
    "import pandas as pd\n",
    "\n",
    "r0 = responses[0]\n",
    "r0_json = r0.json()\n",
    "r0_artists = r0_json['artists']['artist']\n",
    "r0_df = pd.DataFrame(r0_artists)\n",
    "r0_df.head()"
   ]
  },
  {
   "source": [
    "### Doing above task in a single line\n",
    "\n",
    "**Lists of list. ----> Lists of DF. ----> Concat DFs**"
   ],
   "cell_type": "markdown",
   "metadata": {}
  },
  {
   "cell_type": "code",
   "execution_count": 25,
   "metadata": {},
   "outputs": [
    {
     "output_type": "execute_result",
     "data": {
      "text/plain": [
       "             name  playcount listeners                                  mbid  \\\n",
       "0      The Weeknd  179346588   2006559  c8b03190-306c-4120-bb0b-6f2ebfc06ea9   \n",
       "1  Olivia Rodrigo   29852690    529936                                         \n",
       "2   Billie Eilish   98962944   1206600                                         \n",
       "3      Kanye West  364538699   4936218  164f0d73-1234-4e2c-8743-d77bf2191051   \n",
       "4        Dua Lipa   96012217   1145614                                         \n",
       "\n",
       "                                        url streamable  \\\n",
       "0      https://www.last.fm/music/The+Weeknd          0   \n",
       "1  https://www.last.fm/music/Olivia+Rodrigo          0   \n",
       "2   https://www.last.fm/music/Billie+Eilish          0   \n",
       "3      https://www.last.fm/music/Kanye+West          0   \n",
       "4        https://www.last.fm/music/Dua+Lipa          0   \n",
       "\n",
       "                                               image  \n",
       "0  [{'#text': 'https://lastfm.freetls.fastly.net/...  \n",
       "1  [{'#text': 'https://lastfm.freetls.fastly.net/...  \n",
       "2  [{'#text': 'https://lastfm.freetls.fastly.net/...  \n",
       "3  [{'#text': 'https://lastfm.freetls.fastly.net/...  \n",
       "4  [{'#text': 'https://lastfm.freetls.fastly.net/...  "
      ],
      "text/html": "<div>\n<style scoped>\n    .dataframe tbody tr th:only-of-type {\n        vertical-align: middle;\n    }\n\n    .dataframe tbody tr th {\n        vertical-align: top;\n    }\n\n    .dataframe thead th {\n        text-align: right;\n    }\n</style>\n<table border=\"1\" class=\"dataframe\">\n  <thead>\n    <tr style=\"text-align: right;\">\n      <th></th>\n      <th>name</th>\n      <th>playcount</th>\n      <th>listeners</th>\n      <th>mbid</th>\n      <th>url</th>\n      <th>streamable</th>\n      <th>image</th>\n    </tr>\n  </thead>\n  <tbody>\n    <tr>\n      <th>0</th>\n      <td>The Weeknd</td>\n      <td>179346588</td>\n      <td>2006559</td>\n      <td>c8b03190-306c-4120-bb0b-6f2ebfc06ea9</td>\n      <td>https://www.last.fm/music/The+Weeknd</td>\n      <td>0</td>\n      <td>[{'#text': 'https://lastfm.freetls.fastly.net/...</td>\n    </tr>\n    <tr>\n      <th>1</th>\n      <td>Olivia Rodrigo</td>\n      <td>29852690</td>\n      <td>529936</td>\n      <td></td>\n      <td>https://www.last.fm/music/Olivia+Rodrigo</td>\n      <td>0</td>\n      <td>[{'#text': 'https://lastfm.freetls.fastly.net/...</td>\n    </tr>\n    <tr>\n      <th>2</th>\n      <td>Billie Eilish</td>\n      <td>98962944</td>\n      <td>1206600</td>\n      <td></td>\n      <td>https://www.last.fm/music/Billie+Eilish</td>\n      <td>0</td>\n      <td>[{'#text': 'https://lastfm.freetls.fastly.net/...</td>\n    </tr>\n    <tr>\n      <th>3</th>\n      <td>Kanye West</td>\n      <td>364538699</td>\n      <td>4936218</td>\n      <td>164f0d73-1234-4e2c-8743-d77bf2191051</td>\n      <td>https://www.last.fm/music/Kanye+West</td>\n      <td>0</td>\n      <td>[{'#text': 'https://lastfm.freetls.fastly.net/...</td>\n    </tr>\n    <tr>\n      <th>4</th>\n      <td>Dua Lipa</td>\n      <td>96012217</td>\n      <td>1145614</td>\n      <td></td>\n      <td>https://www.last.fm/music/Dua+Lipa</td>\n      <td>0</td>\n      <td>[{'#text': 'https://lastfm.freetls.fastly.net/...</td>\n    </tr>\n  </tbody>\n</table>\n</div>"
     },
     "metadata": {},
     "execution_count": 25
    }
   ],
   "source": [
    "frame = [pd.DataFrame(r.json()['artists']['artist']) for r in responses]\n",
    "artists = pd.concat(frame)\n",
    "artists.head()"
   ]
  },
  {
   "cell_type": "code",
   "execution_count": 26,
   "metadata": {},
   "outputs": [
    {
     "output_type": "stream",
     "name": "stdout",
     "text": [
      "(10000, 6)\n"
     ]
    },
    {
     "output_type": "execute_result",
     "data": {
      "text/plain": [
       "             name  playcount listeners                                  mbid  \\\n",
       "0      The Weeknd  179346588   2006559  c8b03190-306c-4120-bb0b-6f2ebfc06ea9   \n",
       "1  Olivia Rodrigo   29852690    529936                                         \n",
       "2   Billie Eilish   98962944   1206600                                         \n",
       "3      Kanye West  364538699   4936218  164f0d73-1234-4e2c-8743-d77bf2191051   \n",
       "4        Dua Lipa   96012217   1145614                                         \n",
       "\n",
       "                                        url streamable  \n",
       "0      https://www.last.fm/music/The+Weeknd          0  \n",
       "1  https://www.last.fm/music/Olivia+Rodrigo          0  \n",
       "2   https://www.last.fm/music/Billie+Eilish          0  \n",
       "3      https://www.last.fm/music/Kanye+West          0  \n",
       "4        https://www.last.fm/music/Dua+Lipa          0  "
      ],
      "text/html": "<div>\n<style scoped>\n    .dataframe tbody tr th:only-of-type {\n        vertical-align: middle;\n    }\n\n    .dataframe tbody tr th {\n        vertical-align: top;\n    }\n\n    .dataframe thead th {\n        text-align: right;\n    }\n</style>\n<table border=\"1\" class=\"dataframe\">\n  <thead>\n    <tr style=\"text-align: right;\">\n      <th></th>\n      <th>name</th>\n      <th>playcount</th>\n      <th>listeners</th>\n      <th>mbid</th>\n      <th>url</th>\n      <th>streamable</th>\n    </tr>\n  </thead>\n  <tbody>\n    <tr>\n      <th>0</th>\n      <td>The Weeknd</td>\n      <td>179346588</td>\n      <td>2006559</td>\n      <td>c8b03190-306c-4120-bb0b-6f2ebfc06ea9</td>\n      <td>https://www.last.fm/music/The+Weeknd</td>\n      <td>0</td>\n    </tr>\n    <tr>\n      <th>1</th>\n      <td>Olivia Rodrigo</td>\n      <td>29852690</td>\n      <td>529936</td>\n      <td></td>\n      <td>https://www.last.fm/music/Olivia+Rodrigo</td>\n      <td>0</td>\n    </tr>\n    <tr>\n      <th>2</th>\n      <td>Billie Eilish</td>\n      <td>98962944</td>\n      <td>1206600</td>\n      <td></td>\n      <td>https://www.last.fm/music/Billie+Eilish</td>\n      <td>0</td>\n    </tr>\n    <tr>\n      <th>3</th>\n      <td>Kanye West</td>\n      <td>364538699</td>\n      <td>4936218</td>\n      <td>164f0d73-1234-4e2c-8743-d77bf2191051</td>\n      <td>https://www.last.fm/music/Kanye+West</td>\n      <td>0</td>\n    </tr>\n    <tr>\n      <th>4</th>\n      <td>Dua Lipa</td>\n      <td>96012217</td>\n      <td>1145614</td>\n      <td></td>\n      <td>https://www.last.fm/music/Dua+Lipa</td>\n      <td>0</td>\n    </tr>\n  </tbody>\n</table>\n</div>"
     },
     "metadata": {},
     "execution_count": 26
    }
   ],
   "source": [
    "# droping image column since for this tutorial its of no use\n",
    "\n",
    "artists = artists.drop(['image'], axis=1)\n",
    "print(artists.shape)\n",
    "artists.head()"
   ]
  },
  {
   "cell_type": "code",
   "execution_count": 27,
   "metadata": {},
   "outputs": [
    {
     "output_type": "stream",
     "name": "stdout",
     "text": [
      "<class 'pandas.core.frame.DataFrame'>\nInt64Index: 10000 entries, 0 to 499\nData columns (total 6 columns):\n #   Column      Non-Null Count  Dtype \n---  ------      --------------  ----- \n 0   name        10000 non-null  object\n 1   playcount   10000 non-null  object\n 2   listeners   10000 non-null  object\n 3   mbid        10000 non-null  object\n 4   url         10000 non-null  object\n 5   streamable  10000 non-null  object\ndtypes: object(6)\nmemory usage: 546.9+ KB\n"
     ]
    }
   ],
   "source": [
    "artists.info()"
   ]
  },
  {
   "cell_type": "code",
   "execution_count": 28,
   "metadata": {},
   "outputs": [
    {
     "output_type": "execute_result",
     "data": {
      "text/plain": [
       "               name playcount listeners   mbid  \\\n",
       "count         10000     10000     10000  10000   \n",
       "unique        10000      9993      9869   6356   \n",
       "top     Erica Banks    878091     39793          \n",
       "freq              1         2         2   3623   \n",
       "\n",
       "                                          url streamable  \n",
       "count                                   10000      10000  \n",
       "unique                                  10000          1  \n",
       "top     https://www.last.fm/music/James+Smith          0  \n",
       "freq                                        1      10000  "
      ],
      "text/html": "<div>\n<style scoped>\n    .dataframe tbody tr th:only-of-type {\n        vertical-align: middle;\n    }\n\n    .dataframe tbody tr th {\n        vertical-align: top;\n    }\n\n    .dataframe thead th {\n        text-align: right;\n    }\n</style>\n<table border=\"1\" class=\"dataframe\">\n  <thead>\n    <tr style=\"text-align: right;\">\n      <th></th>\n      <th>name</th>\n      <th>playcount</th>\n      <th>listeners</th>\n      <th>mbid</th>\n      <th>url</th>\n      <th>streamable</th>\n    </tr>\n  </thead>\n  <tbody>\n    <tr>\n      <th>count</th>\n      <td>10000</td>\n      <td>10000</td>\n      <td>10000</td>\n      <td>10000</td>\n      <td>10000</td>\n      <td>10000</td>\n    </tr>\n    <tr>\n      <th>unique</th>\n      <td>10000</td>\n      <td>9993</td>\n      <td>9869</td>\n      <td>6356</td>\n      <td>10000</td>\n      <td>1</td>\n    </tr>\n    <tr>\n      <th>top</th>\n      <td>Erica Banks</td>\n      <td>878091</td>\n      <td>39793</td>\n      <td></td>\n      <td>https://www.last.fm/music/James+Smith</td>\n      <td>0</td>\n    </tr>\n    <tr>\n      <th>freq</th>\n      <td>1</td>\n      <td>2</td>\n      <td>2</td>\n      <td>3623</td>\n      <td>1</td>\n      <td>10000</td>\n    </tr>\n  </tbody>\n</table>\n</div>"
     },
     "metadata": {},
     "execution_count": 28
    }
   ],
   "source": [
    "artists.describe()"
   ]
  },
  {
   "source": [
    "We were expecting approx 3M artists but have received only 10000, so something went wrong.\n"
   ],
   "cell_type": "markdown",
   "metadata": {}
  },
  {
   "cell_type": "code",
   "execution_count": 31,
   "metadata": {},
   "outputs": [
    {
     "output_type": "execute_result",
     "data": {
      "text/plain": [
       "0      5230\n",
       "500      20\n",
       "dtype: int64"
      ]
     },
     "metadata": {},
     "execution_count": 31
    }
   ],
   "source": [
    "artist_count = [len(r.json()['artists']['artist']) for r in responses]\n",
    "pd.Series(artist_count).value_counts()"
   ]
  },
  {
   "source": [
    "So, from above it is explained that only 20 of our requests give response. Let’s look at the first fifty in order and see if there’s a pattern."
   ],
   "cell_type": "markdown",
   "metadata": {}
  },
  {
   "cell_type": "code",
   "execution_count": 33,
   "metadata": {},
   "outputs": [
    {
     "output_type": "stream",
     "name": "stdout",
     "text": [
      "[500, 500, 500, 500, 500, 500, 500, 500, 500, 500, 500, 500, 500, 500, 500, 500, 500, 500, 500, 500, 0, 0, 0, 0, 0, 0, 0, 0, 0, 0, 0, 0, 0, 0, 0, 0, 0, 0, 0, 0, 0, 0, 0, 0, 0, 0, 0, 0, 0, 0]\n"
     ]
    }
   ],
   "source": [
    "print(artist_count[:50])"
   ]
  },
  {
   "source": [
    "It looks like after the first twenty responses, this API doesn’t return any data — an undocumented limitation."
   ],
   "cell_type": "markdown",
   "metadata": {}
  },
  {
   "cell_type": "code",
   "execution_count": 35,
   "metadata": {},
   "outputs": [
    {
     "output_type": "execute_result",
     "data": {
      "text/plain": [
       "               name playcount listeners   mbid  \\\n",
       "count         10000     10000     10000  10000   \n",
       "unique        10000      9993      9869   6356   \n",
       "top     Erica Banks    878091     39793          \n",
       "freq              1         2         2   3623   \n",
       "\n",
       "                                          url streamable  \n",
       "count                                   10000      10000  \n",
       "unique                                  10000          1  \n",
       "top     https://www.last.fm/music/James+Smith          0  \n",
       "freq                                        1      10000  "
      ],
      "text/html": "<div>\n<style scoped>\n    .dataframe tbody tr th:only-of-type {\n        vertical-align: middle;\n    }\n\n    .dataframe tbody tr th {\n        vertical-align: top;\n    }\n\n    .dataframe thead th {\n        text-align: right;\n    }\n</style>\n<table border=\"1\" class=\"dataframe\">\n  <thead>\n    <tr style=\"text-align: right;\">\n      <th></th>\n      <th>name</th>\n      <th>playcount</th>\n      <th>listeners</th>\n      <th>mbid</th>\n      <th>url</th>\n      <th>streamable</th>\n    </tr>\n  </thead>\n  <tbody>\n    <tr>\n      <th>count</th>\n      <td>10000</td>\n      <td>10000</td>\n      <td>10000</td>\n      <td>10000</td>\n      <td>10000</td>\n      <td>10000</td>\n    </tr>\n    <tr>\n      <th>unique</th>\n      <td>10000</td>\n      <td>9993</td>\n      <td>9869</td>\n      <td>6356</td>\n      <td>10000</td>\n      <td>1</td>\n    </tr>\n    <tr>\n      <th>top</th>\n      <td>Erica Banks</td>\n      <td>878091</td>\n      <td>39793</td>\n      <td></td>\n      <td>https://www.last.fm/music/James+Smith</td>\n      <td>0</td>\n    </tr>\n    <tr>\n      <th>freq</th>\n      <td>1</td>\n      <td>2</td>\n      <td>2</td>\n      <td>3623</td>\n      <td>1</td>\n      <td>10000</td>\n    </tr>\n  </tbody>\n</table>\n</div>"
     },
     "metadata": {},
     "execution_count": 35
    }
   ],
   "source": [
    "artists = artists.drop_duplicates().reset_index(drop=True)\n",
    "artists.describe()"
   ]
  },
  {
   "source": [
    "## Augmenting the Data Using a Second Last.fm API Endpoint"
   ],
   "cell_type": "markdown",
   "metadata": {}
  },
  {
   "cell_type": "code",
   "execution_count": 36,
   "metadata": {},
   "outputs": [
    {
     "output_type": "stream",
     "name": "stdout",
     "text": [
      "{\n    \"toptags\": {\n        \"@attr\": {\n            \"artist\": \"Lana Del Rey\"\n        },\n        \"tag\": [\n            {\n                \"count\": 100,\n                \"name\": \"female vocalists\",\n                \"url\": \"https://www.last.fm/tag/female+vocalists\"\n            },\n            {\n                \"count\": 94,\n                \"name\": \"indie\",\n                \"url\": \"https://www.last.fm/tag/indie\"\n            },\n            {\n                \"count\": 89,\n                \"name\": \"indie pop\",\n                \"url\": \"https://www.last.fm/tag/indie+pop\"\n            },\n            {\n                \"count\": 80,\n                \"name\": \"pop\",\n                \"url\": \"https://www.last.fm/tag/pop\"\n            },\n            {\n                \"count\": 67,\n                \"name\": \"alternative\",\n                \"url\": \"https://www.last.fm/tag/alternative\"\n            },\n            {\n                \"count\": 14,\n                \"name\": \"dream pop\",\n                \"url\": \"https://www.last.fm/tag/dream+pop\"\n            },\n            {\n                \"count\": 14,\n                \"name\": \"american\",\n                \"url\": \"https://www.last.fm/tag/american\"\n            },\n            {\n                \"count\": 12,\n                \"name\": \"seen live\",\n                \"url\": \"https://www.last.fm/tag/seen+live\"\n            },\n            {\n                \"count\": 10,\n                \"name\": \"singer-songwriter\",\n                \"url\": \"https://www.last.fm/tag/singer-songwriter\"\n            },\n            {\n                \"count\": 10,\n                \"name\": \"trip-hop\",\n                \"url\": \"https://www.last.fm/tag/trip-hop\"\n            },\n            {\n                \"count\": 7,\n                \"name\": \"sadcore\",\n                \"url\": \"https://www.last.fm/tag/sadcore\"\n            },\n            {\n                \"count\": 7,\n                \"name\": \"cult\",\n                \"url\": \"https://www.last.fm/tag/cult\"\n            },\n            {\n                \"count\": 7,\n                \"name\": \"legend\",\n                \"url\": \"https://www.last.fm/tag/legend\"\n            },\n            {\n                \"count\": 6,\n                \"name\": \"chamber pop\",\n                \"url\": \"https://www.last.fm/tag/chamber+pop\"\n            },\n            {\n                \"count\": 6,\n                \"name\": \"Lana Del Rey\",\n                \"url\": \"https://www.last.fm/tag/Lana+Del+Rey\"\n            },\n            {\n                \"count\": 5,\n                \"name\": \"baroque pop\",\n                \"url\": \"https://www.last.fm/tag/baroque+pop\"\n            },\n            {\n                \"count\": 4,\n                \"name\": \"trip hop\",\n                \"url\": \"https://www.last.fm/tag/trip+hop\"\n            },\n            {\n                \"count\": 4,\n                \"name\": \"female vocalist\",\n                \"url\": \"https://www.last.fm/tag/female+vocalist\"\n            },\n            {\n                \"count\": 4,\n                \"name\": \"alternative pop\",\n                \"url\": \"https://www.last.fm/tag/alternative+pop\"\n            },\n            {\n                \"count\": 4,\n                \"name\": \"art pop\",\n                \"url\": \"https://www.last.fm/tag/art+pop\"\n            },\n            {\n                \"count\": 4,\n                \"name\": \"Retro\",\n                \"url\": \"https://www.last.fm/tag/Retro\"\n            },\n            {\n                \"count\": 3,\n                \"name\": \"chillout\",\n                \"url\": \"https://www.last.fm/tag/chillout\"\n            },\n            {\n                \"count\": 3,\n                \"name\": \"soul\",\n                \"url\": \"https://www.last.fm/tag/soul\"\n            },\n            {\n                \"count\": 3,\n                \"name\": \"USA\",\n                \"url\": \"https://www.last.fm/tag/USA\"\n            },\n            {\n                \"count\": 3,\n                \"name\": \"sexy\",\n                \"url\": \"https://www.last.fm/tag/sexy\"\n            },\n            {\n                \"count\": 3,\n                \"name\": \"rock\",\n                \"url\": \"https://www.last.fm/tag/rock\"\n            },\n            {\n                \"count\": 2,\n                \"name\": \"new york\",\n                \"url\": \"https://www.last.fm/tag/new+york\"\n            },\n            {\n                \"count\": 2,\n                \"name\": \"indie rock\",\n                \"url\": \"https://www.last.fm/tag/indie+rock\"\n            },\n            {\n                \"count\": 2,\n                \"name\": \"hollywood sadcore\",\n                \"url\": \"https://www.last.fm/tag/hollywood+sadcore\"\n            },\n            {\n                \"count\": 2,\n                \"name\": \"female\",\n                \"url\": \"https://www.last.fm/tag/female\"\n            },\n            {\n                \"count\": 2,\n                \"name\": \"jazz\",\n                \"url\": \"https://www.last.fm/tag/jazz\"\n            },\n            {\n                \"count\": 2,\n                \"name\": \"folk\",\n                \"url\": \"https://www.last.fm/tag/folk\"\n            },\n            {\n                \"count\": 2,\n                \"name\": \"10s\",\n                \"url\": \"https://www.last.fm/tag/10s\"\n            },\n            {\n                \"count\": 2,\n                \"name\": \"lana\",\n                \"url\": \"https://www.last.fm/tag/lana\"\n            },\n            {\n                \"count\": 2,\n                \"name\": \"electronic\",\n                \"url\": \"https://www.last.fm/tag/electronic\"\n            },\n            {\n                \"count\": 2,\n                \"name\": \"blues\",\n                \"url\": \"https://www.last.fm/tag/blues\"\n            },\n            {\n                \"count\": 2,\n                \"name\": \"2010s\",\n                \"url\": \"https://www.last.fm/tag/2010s\"\n            },\n            {\n                \"count\": 2,\n                \"name\": \"vintage\",\n                \"url\": \"https://www.last.fm/tag/vintage\"\n            },\n            {\n                \"count\": 2,\n                \"name\": \"alternative rock\",\n                \"url\": \"https://www.last.fm/tag/alternative+rock\"\n            },\n            {\n                \"count\": 2,\n                \"name\": \"overrated\",\n                \"url\": \"https://www.last.fm/tag/overrated\"\n            },\n            {\n                \"count\": 2,\n                \"name\": \"retro pop\",\n                \"url\": \"https://www.last.fm/tag/retro+pop\"\n            },\n            {\n                \"count\": 2,\n                \"name\": \"americana\",\n                \"url\": \"https://www.last.fm/tag/americana\"\n            },\n            {\n                \"count\": 2,\n                \"name\": \"beautiful\",\n                \"url\": \"https://www.last.fm/tag/beautiful\"\n            },\n            {\n                \"count\": 2,\n                \"name\": \"melancholic\",\n                \"url\": \"https://www.last.fm/tag/melancholic\"\n            },\n            {\n                \"count\": 1,\n                \"name\": \"dark pop\",\n                \"url\": \"https://www.last.fm/tag/dark+pop\"\n            },\n            {\n                \"count\": 1,\n                \"name\": \"Hollywood Pop\",\n                \"url\": \"https://www.last.fm/tag/Hollywood+Pop\"\n            },\n            {\n                \"count\": 1,\n                \"name\": \"sad\",\n                \"url\": \"https://www.last.fm/tag/sad\"\n            },\n            {\n                \"count\": 1,\n                \"name\": \"chill\",\n                \"url\": \"https://www.last.fm/tag/chill\"\n            },\n            {\n                \"count\": 1,\n                \"name\": \"diva\",\n                \"url\": \"https://www.last.fm/tag/diva\"\n            },\n            {\n                \"count\": 1,\n                \"name\": \"pop rock\",\n                \"url\": \"https://www.last.fm/tag/pop+rock\"\n            }\n        ]\n    }\n}\n"
     ]
    }
   ],
   "source": [
    "# endpoint : artist.getTopTags\n",
    "\n",
    "r = lastfm_get({\n",
    "    'method': 'artist.getTopTags',\n",
    "    'artist':  'Lana Del Rey'\n",
    "})\n",
    "\n",
    "jprint(r.json())"
   ]
  },
  {
   "cell_type": "code",
   "execution_count": 37,
   "metadata": {},
   "outputs": [
    {
     "output_type": "execute_result",
     "data": {
      "text/plain": [
       "['female vocalists', 'indie', 'indie pop']"
      ]
     },
     "metadata": {},
     "execution_count": 37
    }
   ],
   "source": [
    "# Let's explore only tag names. Fetching only top 3 tags.\n",
    "\n",
    "\n",
    "tags = [t['name'] for t in r.json()['toptags']['tag'][:3]]\n",
    "tags"
   ]
  },
  {
   "cell_type": "code",
   "execution_count": 38,
   "metadata": {},
   "outputs": [
    {
     "output_type": "execute_result",
     "data": {
      "text/plain": [
       "'female vocalists, indie, indie pop'"
      ]
     },
     "metadata": {},
     "execution_count": 38
    }
   ],
   "source": [
    "# converting it into a string\n",
    "', '.join(tags)"
   ]
  },
  {
   "cell_type": "code",
   "execution_count": 39,
   "metadata": {},
   "outputs": [],
   "source": [
    "'''\n",
    "Encapsulating above in a single function, which will extract top tags of a given artist.\n",
    "'''\n",
    "\n",
    "def lookup_tags(artist):\n",
    "    response = lastfm_get({\n",
    "        'method': 'artist.getTopTags',\n",
    "        'artist':  artist\n",
    "    })\n",
    "\n",
    "    # if there's an error, just return nothing\n",
    "    if response.status_code != 200:\n",
    "        return None\n",
    "\n",
    "    # extract the top three tags and turn them into a string\n",
    "    tags = [t['name'] for t in response.json()['toptags']['tag'][:3]]\n",
    "    tags_str = ', '.join(tags)\n",
    "\n",
    "    # rate limiting\n",
    "    if not getattr(response, 'from_cache', False):\n",
    "        time.sleep(0.25)\n",
    "    return tags_str"
   ]
  },
  {
   "cell_type": "code",
   "execution_count": 41,
   "metadata": {},
   "outputs": [
    {
     "output_type": "execute_result",
     "data": {
      "text/plain": [
       "'pop, indie pop, female vocalists'"
      ]
     },
     "metadata": {},
     "execution_count": 41
    }
   ],
   "source": [
    "lookup_tags(\"Billie Eilish\")"
   ]
  },
  {
   "cell_type": "code",
   "execution_count": 42,
   "metadata": {},
   "outputs": [
    {
     "output_type": "stream",
     "name": "stderr",
     "text": [
      "100%|██████████| 10000/10000 [1:36:27<00:00,  1.73it/s]\n"
     ]
    }
   ],
   "source": [
    "# Applying the above function to complete dataframe. Using progress_apply instead of apply to check the process.\n",
    "\n",
    "from tqdm import tqdm\n",
    "tqdm.pandas()\n",
    "\n",
    "artists['tags'] = artists['name'].progress_apply(lookup_tags)"
   ]
  },
  {
   "cell_type": "code",
   "execution_count": 43,
   "metadata": {},
   "outputs": [
    {
     "output_type": "execute_result",
     "data": {
      "text/plain": [
       "             name  playcount listeners                                  mbid  \\\n",
       "0      The Weeknd  179346588   2006559  c8b03190-306c-4120-bb0b-6f2ebfc06ea9   \n",
       "1  Olivia Rodrigo   29852690    529936                                         \n",
       "2   Billie Eilish   98962944   1206600                                         \n",
       "3      Kanye West  364538699   4936218  164f0d73-1234-4e2c-8743-d77bf2191051   \n",
       "4        Dua Lipa   96012217   1145614                                         \n",
       "\n",
       "                                        url streamable  \\\n",
       "0      https://www.last.fm/music/The+Weeknd          0   \n",
       "1  https://www.last.fm/music/Olivia+Rodrigo          0   \n",
       "2   https://www.last.fm/music/Billie+Eilish          0   \n",
       "3      https://www.last.fm/music/Kanye+West          0   \n",
       "4        https://www.last.fm/music/Dua+Lipa          0   \n",
       "\n",
       "                               tags  \n",
       "0          rnb, electronic, dubstep  \n",
       "1            pop, Disney, indie pop  \n",
       "2  pop, indie pop, female vocalists  \n",
       "3             Hip-Hop, rap, hip hop  \n",
       "4         pop, synthpop, electropop  "
      ],
      "text/html": "<div>\n<style scoped>\n    .dataframe tbody tr th:only-of-type {\n        vertical-align: middle;\n    }\n\n    .dataframe tbody tr th {\n        vertical-align: top;\n    }\n\n    .dataframe thead th {\n        text-align: right;\n    }\n</style>\n<table border=\"1\" class=\"dataframe\">\n  <thead>\n    <tr style=\"text-align: right;\">\n      <th></th>\n      <th>name</th>\n      <th>playcount</th>\n      <th>listeners</th>\n      <th>mbid</th>\n      <th>url</th>\n      <th>streamable</th>\n      <th>tags</th>\n    </tr>\n  </thead>\n  <tbody>\n    <tr>\n      <th>0</th>\n      <td>The Weeknd</td>\n      <td>179346588</td>\n      <td>2006559</td>\n      <td>c8b03190-306c-4120-bb0b-6f2ebfc06ea9</td>\n      <td>https://www.last.fm/music/The+Weeknd</td>\n      <td>0</td>\n      <td>rnb, electronic, dubstep</td>\n    </tr>\n    <tr>\n      <th>1</th>\n      <td>Olivia Rodrigo</td>\n      <td>29852690</td>\n      <td>529936</td>\n      <td></td>\n      <td>https://www.last.fm/music/Olivia+Rodrigo</td>\n      <td>0</td>\n      <td>pop, Disney, indie pop</td>\n    </tr>\n    <tr>\n      <th>2</th>\n      <td>Billie Eilish</td>\n      <td>98962944</td>\n      <td>1206600</td>\n      <td></td>\n      <td>https://www.last.fm/music/Billie+Eilish</td>\n      <td>0</td>\n      <td>pop, indie pop, female vocalists</td>\n    </tr>\n    <tr>\n      <th>3</th>\n      <td>Kanye West</td>\n      <td>364538699</td>\n      <td>4936218</td>\n      <td>164f0d73-1234-4e2c-8743-d77bf2191051</td>\n      <td>https://www.last.fm/music/Kanye+West</td>\n      <td>0</td>\n      <td>Hip-Hop, rap, hip hop</td>\n    </tr>\n    <tr>\n      <th>4</th>\n      <td>Dua Lipa</td>\n      <td>96012217</td>\n      <td>1145614</td>\n      <td></td>\n      <td>https://www.last.fm/music/Dua+Lipa</td>\n      <td>0</td>\n      <td>pop, synthpop, electropop</td>\n    </tr>\n  </tbody>\n</table>\n</div>"
     },
     "metadata": {},
     "execution_count": 43
    }
   ],
   "source": [
    "artists.head()"
   ]
  },
  {
   "cell_type": "code",
   "execution_count": 44,
   "metadata": {},
   "outputs": [
    {
     "output_type": "stream",
     "name": "stdout",
     "text": [
      "<class 'pandas.core.frame.DataFrame'>\nRangeIndex: 10000 entries, 0 to 9999\nData columns (total 7 columns):\n #   Column      Non-Null Count  Dtype \n---  ------      --------------  ----- \n 0   name        10000 non-null  object\n 1   playcount   10000 non-null  object\n 2   listeners   10000 non-null  object\n 3   mbid        10000 non-null  object\n 4   url         10000 non-null  object\n 5   streamable  10000 non-null  object\n 6   tags        10000 non-null  object\ndtypes: object(7)\nmemory usage: 547.0+ KB\n"
     ]
    }
   ],
   "source": [
    "artists.info()"
   ]
  },
  {
   "cell_type": "code",
   "execution_count": 45,
   "metadata": {},
   "outputs": [],
   "source": [
    "#  converting the listeners and playcount columns to numeric.\n",
    "\n",
    "artists[[\"playcount\", \"listeners\"]] = artists[[\"playcount\", \"listeners\"]].astype(int)"
   ]
  },
  {
   "cell_type": "code",
   "execution_count": 46,
   "metadata": {},
   "outputs": [
    {
     "output_type": "execute_result",
     "data": {
      "text/plain": [
       "                     name  playcount  listeners  \\\n",
       "13               Coldplay  394063821    5857957   \n",
       "25              Radiohead  564014980    5122652   \n",
       "9                 Rihanna  237266756    5096436   \n",
       "31                 Eminem  244048742    5001478   \n",
       "54  Red Hot Chili Peppers  322646597    4958221   \n",
       "3              Kanye West  364538699    4936218   \n",
       "62            The Killers  231973914    4790302   \n",
       "41                Nirvana  253732651    4675382   \n",
       "19                  Queen  226654843    4503339   \n",
       "14              Lady Gaga  384129546    4360555   \n",
       "\n",
       "                                    mbid  \\\n",
       "13  cc197bad-dc9c-440d-a5b5-d52ba2e14234   \n",
       "25  a74b1b7f-71a5-4011-9441-d0b5e4122711   \n",
       "9   db36a76f-4cdf-43ac-8cd0-5e48092d2bae   \n",
       "31  b95ce3ff-3d05-4e87-9e01-c97b66af13d4   \n",
       "54  8bfac288-ccc5-448d-9573-c33ea2aa5c30   \n",
       "3   164f0d73-1234-4e2c-8743-d77bf2191051   \n",
       "62  95e1ead9-4d31-4808-a7ac-32c3614c116b   \n",
       "41  9282c8b4-ca0b-4c6b-b7e3-4f7762dfc4d6   \n",
       "19  420ca290-76c5-41af-999e-564d7c71f1a7   \n",
       "14  650e7db6-b795-4eb5-a702-5ea2fc46c848   \n",
       "\n",
       "                                                url streamable  \\\n",
       "13               https://www.last.fm/music/Coldplay          0   \n",
       "25              https://www.last.fm/music/Radiohead          0   \n",
       "9                 https://www.last.fm/music/Rihanna          0   \n",
       "31                 https://www.last.fm/music/Eminem          0   \n",
       "54  https://www.last.fm/music/Red+Hot+Chili+Peppers          0   \n",
       "3              https://www.last.fm/music/Kanye+West          0   \n",
       "62            https://www.last.fm/music/The+Killers          0   \n",
       "41                https://www.last.fm/music/Nirvana          0   \n",
       "19                  https://www.last.fm/music/Queen          0   \n",
       "14              https://www.last.fm/music/Lady+Gaga          0   \n",
       "\n",
       "                                   tags  \n",
       "13           rock, alternative, britpop  \n",
       "25  alternative, alternative rock, rock  \n",
       "9            pop, rnb, female vocalists  \n",
       "31                 rap, Hip-Hop, Eminem  \n",
       "54  rock, alternative rock, alternative  \n",
       "3                 Hip-Hop, rap, hip hop  \n",
       "62              indie, rock, indie rock  \n",
       "41            Grunge, rock, alternative  \n",
       "19              classic rock, rock, 80s  \n",
       "14               pop, dance, electronic  "
      ],
      "text/html": "<div>\n<style scoped>\n    .dataframe tbody tr th:only-of-type {\n        vertical-align: middle;\n    }\n\n    .dataframe tbody tr th {\n        vertical-align: top;\n    }\n\n    .dataframe thead th {\n        text-align: right;\n    }\n</style>\n<table border=\"1\" class=\"dataframe\">\n  <thead>\n    <tr style=\"text-align: right;\">\n      <th></th>\n      <th>name</th>\n      <th>playcount</th>\n      <th>listeners</th>\n      <th>mbid</th>\n      <th>url</th>\n      <th>streamable</th>\n      <th>tags</th>\n    </tr>\n  </thead>\n  <tbody>\n    <tr>\n      <th>13</th>\n      <td>Coldplay</td>\n      <td>394063821</td>\n      <td>5857957</td>\n      <td>cc197bad-dc9c-440d-a5b5-d52ba2e14234</td>\n      <td>https://www.last.fm/music/Coldplay</td>\n      <td>0</td>\n      <td>rock, alternative, britpop</td>\n    </tr>\n    <tr>\n      <th>25</th>\n      <td>Radiohead</td>\n      <td>564014980</td>\n      <td>5122652</td>\n      <td>a74b1b7f-71a5-4011-9441-d0b5e4122711</td>\n      <td>https://www.last.fm/music/Radiohead</td>\n      <td>0</td>\n      <td>alternative, alternative rock, rock</td>\n    </tr>\n    <tr>\n      <th>9</th>\n      <td>Rihanna</td>\n      <td>237266756</td>\n      <td>5096436</td>\n      <td>db36a76f-4cdf-43ac-8cd0-5e48092d2bae</td>\n      <td>https://www.last.fm/music/Rihanna</td>\n      <td>0</td>\n      <td>pop, rnb, female vocalists</td>\n    </tr>\n    <tr>\n      <th>31</th>\n      <td>Eminem</td>\n      <td>244048742</td>\n      <td>5001478</td>\n      <td>b95ce3ff-3d05-4e87-9e01-c97b66af13d4</td>\n      <td>https://www.last.fm/music/Eminem</td>\n      <td>0</td>\n      <td>rap, Hip-Hop, Eminem</td>\n    </tr>\n    <tr>\n      <th>54</th>\n      <td>Red Hot Chili Peppers</td>\n      <td>322646597</td>\n      <td>4958221</td>\n      <td>8bfac288-ccc5-448d-9573-c33ea2aa5c30</td>\n      <td>https://www.last.fm/music/Red+Hot+Chili+Peppers</td>\n      <td>0</td>\n      <td>rock, alternative rock, alternative</td>\n    </tr>\n    <tr>\n      <th>3</th>\n      <td>Kanye West</td>\n      <td>364538699</td>\n      <td>4936218</td>\n      <td>164f0d73-1234-4e2c-8743-d77bf2191051</td>\n      <td>https://www.last.fm/music/Kanye+West</td>\n      <td>0</td>\n      <td>Hip-Hop, rap, hip hop</td>\n    </tr>\n    <tr>\n      <th>62</th>\n      <td>The Killers</td>\n      <td>231973914</td>\n      <td>4790302</td>\n      <td>95e1ead9-4d31-4808-a7ac-32c3614c116b</td>\n      <td>https://www.last.fm/music/The+Killers</td>\n      <td>0</td>\n      <td>indie, rock, indie rock</td>\n    </tr>\n    <tr>\n      <th>41</th>\n      <td>Nirvana</td>\n      <td>253732651</td>\n      <td>4675382</td>\n      <td>9282c8b4-ca0b-4c6b-b7e3-4f7762dfc4d6</td>\n      <td>https://www.last.fm/music/Nirvana</td>\n      <td>0</td>\n      <td>Grunge, rock, alternative</td>\n    </tr>\n    <tr>\n      <th>19</th>\n      <td>Queen</td>\n      <td>226654843</td>\n      <td>4503339</td>\n      <td>420ca290-76c5-41af-999e-564d7c71f1a7</td>\n      <td>https://www.last.fm/music/Queen</td>\n      <td>0</td>\n      <td>classic rock, rock, 80s</td>\n    </tr>\n    <tr>\n      <th>14</th>\n      <td>Lady Gaga</td>\n      <td>384129546</td>\n      <td>4360555</td>\n      <td>650e7db6-b795-4eb5-a702-5ea2fc46c848</td>\n      <td>https://www.last.fm/music/Lady+Gaga</td>\n      <td>0</td>\n      <td>pop, dance, electronic</td>\n    </tr>\n  </tbody>\n</table>\n</div>"
     },
     "metadata": {},
     "execution_count": 46
    }
   ],
   "source": [
    "# Sorting by listeners\n",
    "artists = artists.sort_values(\"listeners\", ascending=False)\n",
    "artists.head(10)"
   ]
  },
  {
   "cell_type": "code",
   "execution_count": null,
   "metadata": {},
   "outputs": [],
   "source": []
  }
 ],
 "metadata": {
  "kernelspec": {
   "name": "python373jvsc74a57bd05f46c807ac9a32bf3a7558e43a063caf1713a445187cdb757a05084f0592829e",
   "display_name": "Python 3.7.3 64-bit ('base': conda)"
  },
  "language_info": {
   "codemirror_mode": {
    "name": "ipython",
    "version": 3
   },
   "file_extension": ".py",
   "mimetype": "text/x-python",
   "name": "python",
   "nbconvert_exporter": "python",
   "pygments_lexer": "ipython3",
   "version": "3.7.3"
  }
 },
 "nbformat": 4,
 "nbformat_minor": 2
}